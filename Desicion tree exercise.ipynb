{
 "cells": [
  {
   "cell_type": "code",
   "execution_count": null,
   "id": "ef4aa5ef",
   "metadata": {},
   "outputs": [],
   "source": [
    "import pandas as pd\n",
    "import matplotlib.pyplot as plt\n",
    "import warnings\n",
    "from sklearn.model_selection import train_test_split\n",
    "from sklearn.tree import DecisionTreeClassifier\n",
    "from sklearn.metrics import accuracy_score\n",
    "from sklearn import tree\n",
    "\n",
    "warnings.filterwarnings('ignore')\n",
    "\n",
    "# Creating a synthetic dataset\n",
    "# This dataset simulates customer data for a telecom company\n",
    "data = {\n",
    "      'CustomerID': range(1, 101),  # Unique ID for each customer\n",
    "      'Age': [20, 25, 30, 35, 40, 45, 50, 55, 60, 65]*10,  # Age of customers\n",
    "      'MonthlyCharge': [50, 60, 70, 80, 90, 100, 110, 120, 130, 140]*10,  # Monthly bill amount\n",
    "      'CustomerServiceCalls': [1, 2, 3, 4, 0, 1, 2, 3, 4, 0]*10,  # Number of customer service calls\n",
    "      'Churn': ['No', 'No', 'Yes', 'No', 'Yes', 'No', 'Yes', 'Yes', 'No', 'Yes']*10  # Churn status\n",
    "}\n",
    "df = pd.DataFrame(data)\n",
    "\n",
    "# Splitting the dataset into features and target variable\n",
    "# Features include age, monthly charge, and customer service calls\n",
    "# The target variable is churn (Yes or No)\n",
    "X = df[['Age', 'MonthlyCharge', 'CustomerServiceCalls']]\n",
    "y = df['Churn']\n",
    "\n",
    "# Splitting the dataset into training and testing sets\n",
    "# 70% of the data is used for training and 30% for testing\n",
    "X_train, X_test, y_train, y_test = train_test_split(X, y, test_size=0.3, random_state=42)\n",
    "\n",
    "# Training the Decision Tree model\n",
    "clf = DecisionTreeClassifier()\n",
    "clf.fit(X_train, y_train)\n",
    "\n",
    "# Making predictions on the test set\n",
    "y_pred = clf.predict(X_test)\n",
    "\n",
    "# Evaluating the model using accuracy\n",
    "# Accuracy is the proportion of correct predictions among the total number of cases processed\n",
    "accuracy = accuracy_score(y_test, y_pred)\n",
    "print(f'Model Accuracy: {accuracy}')\n",
    "\n",
    "# Visualizing the decision tree\n",
    "# This visualization helps in understanding how the model makes decisions\n",
    "plt.figure(figsize=(12,8))\n",
    "tree.plot_tree(clf, filled=True, feature_names=['Age', 'MonthlyCharge', 'CustomerServiceCalls'], class_names=['No Churn', 'Churn'])\n",
    "plt.title('Decision Tree for Predicting Customer Churn')\n",
    "plt.show()"
   ]
  }
 ],
 "metadata": {
  "language_info": {
   "name": "python"
  }
 },
 "nbformat": 4,
 "nbformat_minor": 5
}
